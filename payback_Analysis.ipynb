{
 "cells": [
  {
   "cell_type": "code",
   "execution_count": 15,
   "metadata": {
    "ExecuteTime": {
     "end_time": "2023-09-24T10:39:01.022513Z",
     "start_time": "2023-09-24T10:38:48.968908Z"
    }
   },
   "outputs": [],
   "source": [
    "import pandas as pd\n",
    "from datetime import datetime\n",
    "df = pd.read_excel(\"main_data.xlsx\")\n",
    "df['Date'] = pd.to_datetime(df['Date'])\n",
    "# Convert 'Date' column to datetime format\n",
    "df['Date'] = pd.to_datetime(df['Date'], format='%m/%d/%y %H:%M')\n",
    "# Extract month, day, and hour information\n",
    "df['Month'] = df['Date'].dt.month\n",
    "df['Day'] = df['Date'].dt.day\n",
    "df['Hour'] = df['Date'].dt.hour\n",
    "# Initialize a new column for the rate\n",
    "df['Rate'] = 0\n",
    "\n",
    "# June to September, 6 AM to 6 PM\n",
    "condition1 = (df['Month'].between(6, 9)) & (df['Hour'].between(6, 18))\n",
    "df.loc[condition1, 'Rate'] = 0.12\n",
    "\n",
    "# June to September, 6 PM to 6 AM\n",
    "condition2 = (df['Month'].between(6, 9)) & (~df['Hour'].between(6, 18))\n",
    "df.loc[condition2, 'Rate'] = 0.05\n",
    "\n",
    "# October to May, 6 AM to 6 PM\n",
    "condition3 = (~df['Month'].between(6, 9)) & (df['Hour'].between(6, 18))\n",
    "df.loc[condition3, 'Rate'] = 0.05\n",
    "\n",
    "# October to May, 6 PM to 6 AM\n",
    "condition4 = (~df['Month'].between(6, 9)) & (~df['Hour'].between(6, 18))\n",
    "df.loc[condition4, 'Rate'] = 0.04\n",
    "\n",
    "\n",
    "#[remove the row if the column EL_Solar_BusBarn_Total_KW has this value \"[-11059] No Good Data For Calculation\"\n",
    "# Assuming you want to filter based on 'EL_Solar_BusBarn_Total_KW' column\n",
    "df = df[df['EL_Solar_CarCharging_total_KW'] != '[-11059] No Good Data For Calculation']\n",
    "\n",
    "# EL_Solar_BusBarn_Total_KW convert to float\n",
    "df['EL_Solar_CarCharging_total_KW'] = df['EL_Solar_CarCharging_total_KW'].astype(float)\n",
    "# if EL_Solar_BusBarn_Total_KW is greater than 38, then replace it with 0\n",
    "df.loc[df['EL_Solar_CarCharging_total_KW'] > 38, 'EL_Solar_CarCharging_total_KW'] = 0\n",
    "# Calculate cost saved\n",
    "df['Cost_Saved'] = df['EL_Solar_CarCharging_total_KW'] * df['Rate']\n",
    "\n",
    "# Save the dataframe to a new csv file\n",
    "df.to_csv(\"savings.csv\", index=False)"
   ]
  },
  {
   "cell_type": "code",
   "execution_count": 16,
   "metadata": {
    "ExecuteTime": {
     "end_time": "2023-09-24T10:38:46.361333Z",
     "start_time": "2023-09-24T10:38:46.357258Z"
    }
   },
   "outputs": [
    {
     "name": "stdout",
     "output_type": "stream",
     "text": [
      "Total profit in 20 years: $ -423249.35602550785\n"
     ]
    }
   ],
   "source": [
    "total_cost_saved_10_63_years = df['Cost_Saved'].sum()\n",
    "total_cost_saved_10_63_yearsannual_savings = total_cost_saved_10_63_years / 10.63\n",
    "initial_cost_cam1 = 890479.6 - 300000\n",
    "annual_savings = total_cost_saved_10_63_years / 10.63\n",
    "payback_period_cam = initial_cost_cam / annual_savings\n",
    "life_expectancy = 20  # in years\n",
    "total_profit_cam = (annual_savings * life_expectancy) - initial_cost_cam\n",
    "print(\"Total profit in 20 years: $\", total_profit_cam)"
   ]
  },
  {
   "cell_type": "code",
   "execution_count": 17,
   "metadata": {},
   "outputs": [
    {
     "name": "stdout",
     "output_type": "stream",
     "text": [
      "Initial Cost: 509531.0\n",
      "Average Savings: 4168.972161131145\n",
      "The EVC will break even in the projected year 2133\n"
     ]
    }
   ],
   "source": [
    "import pandas as pd\n",
    "from matplotlib import pyplot as plt\n",
    "\n",
    "# Assuming df is your DataFrame and Cost_Saved is your column with annual savings\n",
    "df['Year'] = pd.to_datetime(df['Date']).dt.year  # Make sure you have a Year column\n",
    "annual_savings1 = df.groupby('Year')['Cost_Saved'].sum()  # Sum the annual savings\n",
    "\n",
    "initial_cost_cam1 = 890479.6 - 300000 # Initial cost for CAMBUS Array\n",
    "\n",
    "cumulative_savings = annual_savings1.cumsum()  # Cumulative sum of annual savings\n",
    "break_even_year = None\n",
    "\n",
    "# Find the year where the cumulative savings surpass the initial investment\n",
    "cumulative_sum = 0\n",
    "years = 0\n",
    "\n",
    "# Calculate average annual savings\n",
    "average_savings1 = annual_savings1.mean()\n",
    "\n",
    "# Initialize variables\n",
    "cumulative_savings = 0\n",
    "break_even_year = None\n",
    "current_year = 2011  # Start year\n",
    "\n",
    "print(f\"Initial Cost: {initial_cost_cam}\")\n",
    "print(f\"Average Savings: {average_savings1}\")\n",
    "\n",
    "# Loop to find break-even year\n",
    "for year in range(current_year, current_year + 1000):  # Loop up to 100 years into the future\n",
    "    cumulative_savings += average_savings1\n",
    "\n",
    "    if cumulative_savings >= initial_cost_cam:\n",
    "        break_even_year1 = year\n",
    "        break\n",
    "\n",
    "print(f\"The EVC will break even in the projected year {break_even_year1}\")\n",
    "\n",
    "\n"
   ]
  },
  {
   "cell_type": "markdown",
   "metadata": {},
   "source": [
    "### Array"
   ]
  },
  {
   "cell_type": "code",
   "execution_count": 18,
   "metadata": {},
   "outputs": [
    {
     "name": "stderr",
     "output_type": "stream",
     "text": [
      "/var/folders/b0/y0q5l7lx61g3k6f4zvy9__4h0000gn/T/ipykernel_24544/3513409071.py:3: DtypeWarning: Columns (1) have mixed types. Specify dtype option on import or set low_memory=False.\n",
      "  df = pd.read_csv(\"Raw_Data.csv\")\n",
      "/var/folders/b0/y0q5l7lx61g3k6f4zvy9__4h0000gn/T/ipykernel_24544/3513409071.py:4: UserWarning: Could not infer format, so each element will be parsed individually, falling back to `dateutil`. To ensure parsing is consistent and as-expected, please specify a format.\n",
      "  df['Date'] = pd.to_datetime(df['Date'])\n"
     ]
    }
   ],
   "source": [
    "import pandas as pd\n",
    "from datetime import datetime\n",
    "df = pd.read_csv(\"Raw_Data.csv\")\n",
    "df['Date'] = pd.to_datetime(df['Date'])\n",
    "# Convert 'Date' column to datetime format\n",
    "df['Date'] = pd.to_datetime(df['Date'], format='%m/%d/%y %H:%M')\n",
    "# Extract month, day, and hour information\n",
    "df['Month'] = df['Date'].dt.month\n",
    "df['Day'] = df['Date'].dt.day\n",
    "df['Hour'] = df['Date'].dt.hour\n",
    "# Initialize a new column for the rate\n",
    "df['Rate'] = 0\n",
    "\n",
    "# June to September, 6 AM to 6 PM\n",
    "condition1 = (df['Month'].between(6, 9)) & (df['Hour'].between(6, 18))\n",
    "df.loc[condition1, 'Rate'] = 0.12\n",
    "\n",
    "# June to September, 6 PM to 6 AM\n",
    "condition2 = (df['Month'].between(6, 9)) & (~df['Hour'].between(6, 18))\n",
    "df.loc[condition2, 'Rate'] = 0.05\n",
    "\n",
    "# October to May, 6 AM to 6 PM\n",
    "condition3 = (~df['Month'].between(6, 9)) & (df['Hour'].between(6, 18))\n",
    "df.loc[condition3, 'Rate'] = 0.05\n",
    "\n",
    "# October to May, 6 PM to 6 AM\n",
    "condition4 = (~df['Month'].between(6, 9)) & (~df['Hour'].between(6, 18))\n",
    "df.loc[condition4, 'Rate'] = 0.04\n",
    "\n",
    "\n",
    "#[remove the row if the column EL_Solar_BusBarn_Total_KW has this value \"[-11059] No Good Data For Calculation\"\n",
    "# Assuming you want to filter based on 'EL_Solar_BusBarn_Total_KW' column\n",
    "df = df[df['EL_Solar_BusBarn_Total_KW'] != '[-11059] No Good Data For Calculation']\n",
    "\n",
    "# EL_Solar_BusBarn_Total_KW convert to float\n",
    "df['EL_Solar_BusBarn_Total_KW'] = df['EL_Solar_BusBarn_Total_KW'].astype(float)\n",
    "# if EL_Solar_BusBarn_Total_KW is greater than 38, then replace it with 0\n",
    "df.loc[df['EL_Solar_BusBarn_Total_KW'] > 38, 'EL_Solar_BusBarn_Total_KW'] = 0\n",
    "# Calculate cost saved\n",
    "df['Cost_Saved'] = df['EL_Solar_BusBarn_Total_KW'] * df['Rate']\n",
    "\n",
    "# Save the dataframe to a new csv file\n",
    "df.to_csv(\"savings_array.csv\", index=False)"
   ]
  },
  {
   "cell_type": "code",
   "execution_count": 19,
   "metadata": {},
   "outputs": [
    {
     "name": "stdout",
     "output_type": "stream",
     "text": [
      "Total profit in 20 years: $ -438330.9129717857\n"
     ]
    }
   ],
   "source": [
    "total_cost_saved_10_63_years = df['Cost_Saved'].sum()\n",
    "total_cost_saved_10_63_yearsannual_savings = total_cost_saved_10_63_years / 10.63\n",
    "initial_cost_cam = 509531.0\n",
    "annual_savings = total_cost_saved_10_63_years / 10.63\n",
    "payback_period_cam = initial_cost_cam / annual_savings\n",
    "life_expectancy = 20  # in years\n",
    "total_profit_cam = (annual_savings * life_expectancy) - initial_cost_cam\n",
    "print(\"Total profit in 20 years: $\", total_profit_cam)"
   ]
  },
  {
   "cell_type": "code",
   "execution_count": 20,
   "metadata": {},
   "outputs": [
    {
     "name": "stdout",
     "output_type": "stream",
     "text": [
      "Initial Cost: 509531.0\n",
      "Average Savings: 3440.258750499627\n",
      "The EVC will break even in the projected year 2159\n"
     ]
    }
   ],
   "source": [
    "import pandas as pd\n",
    "from matplotlib import pyplot as plt\n",
    "\n",
    "# Assuming df is your DataFrame and Cost_Saved is your column with annual savings\n",
    "df['Year'] = pd.to_datetime(df['Date']).dt.year  # Make sure you have a Year column\n",
    "annual_savings = df.groupby('Year')['Cost_Saved'].sum()  # Sum the annual savings\n",
    "\n",
    "initial_cost_cam = 509531.0  # Initial cost for CAMBUS Array\n",
    "\n",
    "cumulative_savings = annual_savings.cumsum()  # Cumulative sum of annual savings\n",
    "break_even_year = None\n",
    "\n",
    "# Find the year where the cumulative savings surpass the initial investment\n",
    "cumulative_sum = 0\n",
    "years = 0\n",
    "\n",
    "# Calculate average annual savings\n",
    "average_savings = annual_savings.mean()\n",
    "\n",
    "# Calculate average annual savings\n",
    "average_savings = annual_savings.mean()\n",
    "\n",
    "# Initialize variables\n",
    "cumulative_savings = 0\n",
    "break_even_year = None\n",
    "current_year = 2011  # Start year\n",
    "\n",
    "print(f\"Initial Cost: {initial_cost_cam}\")\n",
    "print(f\"Average Savings: {average_savings}\")\n",
    "\n",
    "# Loop to find break-even year\n",
    "for year in range(current_year, current_year + 200):  # Loop up to 100 years into the future\n",
    "    cumulative_savings += average_savings\n",
    "\n",
    "    if cumulative_savings >= initial_cost_cam:\n",
    "        break_even_year = year\n",
    "        break\n",
    "\n",
    "print(f\"The EVC will break even in the projected year {break_even_year}\")\n",
    "\n",
    "\n"
   ]
  },
  {
   "cell_type": "code",
   "execution_count": 21,
   "metadata": {},
   "outputs": [
    {
     "data": {
      "image/png": "[encoded data removed]",
      "text/plain": [
       "<Figure size 800x600 with 1 Axes>"
      ]
     },
     "metadata": {},
     "output_type": "display_data"
    }
   ],
   "source": [
    "import matplotlib.pyplot as plt\n",
    "\n",
    "# Data\n",
    "initial_costs = [initial_cost_cam,initial_cost_cam1]\n",
    "average_savings = [average_savings, average_savings1]\n",
    "break_even_years = [break_even_year, break_even_year1]\n",
    "\n",
    "# Labels for bars\n",
    "labels = ['Array1', 'EVC 2']\n",
    "\n",
    "# Create a vertical bar graph\n",
    "plt.figure(figsize=(8, 6))\n",
    "bar_width = 0.35\n",
    "index = range(len(labels))\n",
    "\n",
    "# Plot Initial Cost\n",
    "plt.bar(index, initial_costs, bar_width, label='Initial Cost', alpha=0.7)\n",
    "\n",
    "# Plot Average Savings\n",
    "plt.bar([i + bar_width for i in index], average_savings, bar_width, label='Average Savings', alpha=0.7)\n",
    "\n",
    "# Add projected break-even years as text labels above the bars\n",
    "for i in index:\n",
    "    plt.text(i, initial_costs[i] + 20000, f'Break-even Year {break_even_years[i]}', ha='center')\n",
    "\n",
    "# Set labels and title\n",
    "plt.xlabel('Electric Vehicle Chargers')\n",
    "plt.ylabel('Value')\n",
    "plt.title('Initial Cost and Average Savings for Electric Vehicle Chargers')\n",
    "plt.xticks([i + bar_width / 2 for i in index], labels)\n",
    "plt.legend()\n",
    "\n",
    "# Show the graph\n",
    "plt.tight_layout()\n",
    "plt.show()\n"
   ]
  },
  {
   "cell_type": "code",
   "execution_count": 1,
   "metadata": {},
   "outputs": [],
   "source": [
    "# 0.30 for each kwh"
   ]
  },
  {
   "cell_type": "code",
   "execution_count": null,
   "metadata": {},
   "outputs": [],
   "source": []
  }
 ],
 "metadata": {
  "kernelspec": {
   "display_name": "Python 3 (ipykernel)",
   "language": "python",
   "name": "python3"
  },
  "language_info": {
   "codemirror_mode": {
    "name": "ipython",
    "version": 3
   },
   "file_extension": ".py",
   "mimetype": "text/x-python",
   "name": "python",
   "nbconvert_exporter": "python",
   "pygments_lexer": "ipython3",
   "version": "3.10.11"
  }
 },
 "nbformat": 4,
 "nbformat_minor": 1
}
