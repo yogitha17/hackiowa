{
 "cells": [
  {
   "cell_type": "code",
   "execution_count": 1,
   "id": "2e2b0730",
   "metadata": {},
   "outputs": [],
   "source": [
    "import pandas as pd\n",
    "from datetime import datetime\n",
    "\n",
    "# Load the data from the Excel file\n",
    "df = pd.read_excel(\"main_data.xlsx\")\n",
    "\n",
    "# Convert the 'Date' column to datetime format\n",
    "df['Date'] = pd.to_datetime(df['Date'], format='%m/%d/%y %H:%M')\n",
    "\n",
    "# Extract month, day, and hour information\n",
    "df['Month'] = df['Date'].dt.month\n",
    "df['Day'] = df['Date'].dt.day\n",
    "df['Hour'] = df['Date'].dt.hour\n",
    "\n",
    "# Initialize a new column for the rate (fixed at 30 cents)\n",
    "df['Rate'] = 0.30  # 30 cents per kWh\n",
    "\n",
    "# Filter rows where 'EL_Solar_CarCharging_total_KW' is not equal to \"[-11059] No Good Data For Calculation\"\n",
    "df = df[df['EL_Solar_CarCharging_total_KW'] != '[-11059] No Good Data For Calculation']\n",
    "\n",
    "# Convert 'EL_Solar_CarCharging_total_KW' to float\n",
    "df['EL_Solar_CarCharging_total_KW'] = df['EL_Solar_CarCharging_total_KW'].astype(float)\n",
    "\n",
    "# If 'EL_Solar_CarCharging_total_KW' is greater than 38, then replace it with 0\n",
    "df.loc[df['EL_Solar_CarCharging_total_KW'] > 38, 'EL_Solar_CarCharging_total_KW'] = 0\n",
    "\n",
    "# Calculate cost saved\n",
    "df['Cost_Saved'] = df['EL_Solar_CarCharging_total_KW'] * df['Rate']\n",
    "\n",
    "# Save the dataframe to a new CSV file\n",
    "df.to_csv(\"savings.csv\", index=False)\n"
   ]
  },
  {
   "cell_type": "code",
   "execution_count": 4,
   "id": "5614c078",
   "metadata": {},
   "outputs": [
    {
     "name": "stdout",
     "output_type": "stream",
     "text": [
      "Total profit in 20 years: $ -274546.37781539396\n"
     ]
    }
   ],
   "source": [
    "total_cost_saved_10_63_years = df['Cost_Saved'].sum()\n",
    "total_cost_saved_10_63_yearsannual_savings = total_cost_saved_10_63_years / 10.63\n",
    "initial_cost_cam1 = 890479.6 - 300000\n",
    "annual_savings = total_cost_saved_10_63_years / 10.63\n",
    "payback_period_cam = initial_cost_cam1 / annual_savings\n",
    "life_expectancy = 20  # in years\n",
    "total_profit_cam = (annual_savings * life_expectancy) - initial_cost_cam1\n",
    "print(\"Total profit in 20 years: $\", total_profit_cam)"
   ]
  },
  {
   "cell_type": "code",
   "execution_count": 7,
   "id": "1dbb3041",
   "metadata": {},
   "outputs": [
    {
     "name": "stdout",
     "output_type": "stream",
     "text": [
      "Initial Cost: 590479.6\n",
      "Average Savings: 15265.31887191983\n",
      "The EVC will break even in the projected year 2049\n"
     ]
    }
   ],
   "source": [
    "import pandas as pd\n",
    "from matplotlib import pyplot as plt\n",
    "\n",
    "# Assuming df is your DataFrame and Cost_Saved is your column with annual savings\n",
    "df['Year'] = pd.to_datetime(df['Date']).dt.year  # Make sure you have a Year column\n",
    "annual_savings1 = df.groupby('Year')['Cost_Saved'].sum()  # Sum the annual savings\n",
    "\n",
    "initial_cost_cam1 = 890479.6 - 300000 # Initial cost for CAMBUS Array\n",
    "\n",
    "cumulative_savings = annual_savings1.cumsum()  # Cumulative sum of annual savings\n",
    "break_even_year = None\n",
    "\n",
    "# Find the year where the cumulative savings surpass the initial investment\n",
    "cumulative_sum = 0\n",
    "years = 0\n",
    "\n",
    "# Calculate average annual savings\n",
    "average_savings1 = annual_savings1.mean()\n",
    "\n",
    "# Initialize variables\n",
    "cumulative_savings = 0\n",
    "break_even_year = None\n",
    "current_year = 2011  # Start year\n",
    "\n",
    "print(f\"Initial Cost: {initial_cost_cam1}\")\n",
    "print(f\"Average Savings: {average_savings1}\")\n",
    "\n",
    "# Loop to find break-even year\n",
    "for year in range(current_year, current_year + 1000):  # Loop up to 100 years into the future\n",
    "    cumulative_savings += average_savings1\n",
    "\n",
    "    if cumulative_savings >= initial_cost_cam1:\n",
    "        break_even_year1 = year\n",
    "        break\n",
    "\n",
    "print(f\"The EVC will break even in the projected year {break_even_year1}\")\n",
    "\n",
    "\n"
   ]
  },
  {
   "cell_type": "markdown",
   "id": "c7e275ec",
   "metadata": {},
   "source": [
    "Arrays"
   ]
  },
  {
   "cell_type": "code",
   "execution_count": 8,
   "id": "640776a6",
   "metadata": {},
   "outputs": [
    {
     "name": "stderr",
     "output_type": "stream",
     "text": [
      "/var/folders/b0/y0q5l7lx61g3k6f4zvy9__4h0000gn/T/ipykernel_25077/1933501579.py:3: DtypeWarning: Columns (1) have mixed types. Specify dtype option on import or set low_memory=False.\n",
      "  df = pd.read_csv(\"Raw_Data.csv\")\n",
      "/var/folders/b0/y0q5l7lx61g3k6f4zvy9__4h0000gn/T/ipykernel_25077/1933501579.py:4: UserWarning: Could not infer format, so each element will be parsed individually, falling back to `dateutil`. To ensure parsing is consistent and as-expected, please specify a format.\n",
      "  df['Date'] = pd.to_datetime(df['Date'])\n"
     ]
    }
   ],
   "source": [
    "import pandas as pd\n",
    "from datetime import datetime\n",
    "df = pd.read_csv(\"Raw_Data.csv\")\n",
    "df['Date'] = pd.to_datetime(df['Date'])\n",
    "# Convert 'Date' column to datetime format\n",
    "df['Date'] = pd.to_datetime(df['Date'], format='%m/%d/%y %H:%M')\n",
    "# Extract month, day, and hour information\n",
    "df['Month'] = df['Date'].dt.month\n",
    "df['Day'] = df['Date'].dt.day\n",
    "df['Hour'] = df['Date'].dt.hour\n",
    "# Initialize a new column for the rate\n",
    "df['Rate'] = 0.30\n",
    "\n",
    "\n",
    "#[remove the row if the column EL_Solar_BusBarn_Total_KW has this value \"[-11059] No Good Data For Calculation\"\n",
    "# Assuming you want to filter based on 'EL_Solar_BusBarn_Total_KW' column\n",
    "df = df[df['EL_Solar_BusBarn_Total_KW'] != '[-11059] No Good Data For Calculation']\n",
    "\n",
    "# EL_Solar_BusBarn_Total_KW convert to float\n",
    "df['EL_Solar_BusBarn_Total_KW'] = df['EL_Solar_BusBarn_Total_KW'].astype(float)\n",
    "# if EL_Solar_BusBarn_Total_KW is greater than 38, then replace it with 0\n",
    "df.loc[df['EL_Solar_BusBarn_Total_KW'] > 38, 'EL_Solar_BusBarn_Total_KW'] = 0\n",
    "# Calculate cost saved\n",
    "df['Cost_Saved'] = df['EL_Solar_BusBarn_Total_KW'] * df['Rate']\n",
    "\n",
    "# Save the dataframe to a new csv file\n",
    "df.to_csv(\"savings_array.csv\", index=False)"
   ]
  },
  {
   "cell_type": "code",
   "execution_count": 9,
   "id": "2004802d",
   "metadata": {},
   "outputs": [
    {
     "name": "stdout",
     "output_type": "stream",
     "text": [
      "Total profit in 20 years: $ -252590.73497724463\n"
     ]
    }
   ],
   "source": [
    "total_cost_saved_10_63_years = df['Cost_Saved'].sum()\n",
    "total_cost_saved_10_63_yearsannual_savings = total_cost_saved_10_63_years / 10.63\n",
    "initial_cost_cam = 509531.0\n",
    "annual_savings = total_cost_saved_10_63_years / 10.63\n",
    "payback_period_cam = initial_cost_cam / annual_savings\n",
    "life_expectancy = 20  # in years\n",
    "total_profit_cam = (annual_savings * life_expectancy) - initial_cost_cam\n",
    "print(\"Total profit in 20 years: $\", total_profit_cam)"
   ]
  },
  {
   "cell_type": "code",
   "execution_count": 10,
   "id": "8eec7687",
   "metadata": {},
   "outputs": [
    {
     "name": "stdout",
     "output_type": "stream",
     "text": [
      "Initial Cost: 509531.0\n",
      "Average Savings: 12414.886441781318\n",
      "The EVC will break even in the projected year 2052\n"
     ]
    }
   ],
   "source": [
    "import pandas as pd\n",
    "from matplotlib import pyplot as plt\n",
    "\n",
    "# Assuming df is your DataFrame and Cost_Saved is your column with annual savings\n",
    "df['Year'] = pd.to_datetime(df['Date']).dt.year  # Make sure you have a Year column\n",
    "annual_savings = df.groupby('Year')['Cost_Saved'].sum()  # Sum the annual savings\n",
    "\n",
    "initial_cost_cam = 509531.0  # Initial cost for CAMBUS Array\n",
    "\n",
    "cumulative_savings = annual_savings.cumsum()  # Cumulative sum of annual savings\n",
    "break_even_year = None\n",
    "\n",
    "# Find the year where the cumulative savings surpass the initial investment\n",
    "cumulative_sum = 0\n",
    "years = 0\n",
    "\n",
    "# Calculate average annual savings\n",
    "average_savings = annual_savings.mean()\n",
    "\n",
    "# Calculate average annual savings\n",
    "average_savings = annual_savings.mean()\n",
    "\n",
    "# Initialize variables\n",
    "cumulative_savings = 0\n",
    "break_even_year = None\n",
    "current_year = 2011  # Start year\n",
    "\n",
    "print(f\"Initial Cost: {initial_cost_cam}\")\n",
    "print(f\"Average Savings: {average_savings}\")\n",
    "\n",
    "# Loop to find break-even year\n",
    "for year in range(current_year, current_year + 200):  # Loop up to 100 years into the future\n",
    "    cumulative_savings += average_savings\n",
    "\n",
    "    if cumulative_savings >= initial_cost_cam:\n",
    "        break_even_year = year\n",
    "        break\n",
    "\n",
    "print(f\"The EVC will break even in the projected year {break_even_year}\")\n",
    "\n",
    "\n"
   ]
  },
  {
   "cell_type": "code",
   "execution_count": null,
   "id": "af47e819",
   "metadata": {},
   "outputs": [],
   "source": []
  }
 ],
 "metadata": {
  "kernelspec": {
   "display_name": "Python 3 (ipykernel)",
   "language": "python",
   "name": "python3"
  },
  "language_info": {
   "codemirror_mode": {
    "name": "ipython",
    "version": 3
   },
   "file_extension": ".py",
   "mimetype": "text/x-python",
   "name": "python",
   "nbconvert_exporter": "python",
   "pygments_lexer": "ipython3",
   "version": "3.10.11"
  }
 },
 "nbformat": 4,
 "nbformat_minor": 5
}
